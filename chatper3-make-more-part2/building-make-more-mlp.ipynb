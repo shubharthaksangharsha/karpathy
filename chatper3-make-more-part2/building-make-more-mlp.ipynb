{
 "cells": [
  {
   "cell_type": "code",
   "execution_count": 1,
   "id": "f3a93bb6-5c33-4e77-81ba-676c7e99c1fc",
   "metadata": {},
   "outputs": [],
   "source": [
    "import torch \n",
    "import torch.nn.functional as F \n",
    "import matplotlib.pyplot as plt \n",
    "%matplotlib inline "
   ]
  },
  {
   "cell_type": "code",
   "execution_count": 2,
   "id": "7d0c65cb-980b-48dd-9301-e4524740f463",
   "metadata": {},
   "outputs": [
    {
     "data": {
      "text/plain": [
       "['emma', 'olivia', 'ava', 'isabella', 'sophia', 'charlotte', 'mia', 'amelia']"
      ]
     },
     "execution_count": 2,
     "metadata": {},
     "output_type": "execute_result"
    }
   ],
   "source": [
    "#read all the words \n",
    "words = open('names.txt', 'r').read().splitlines() \n",
    "words[:8]"
   ]
  },
  {
   "cell_type": "code",
   "execution_count": 3,
   "id": "a6553075-049e-4997-add6-5ffd768cdfd6",
   "metadata": {},
   "outputs": [
    {
     "data": {
      "text/plain": [
       "32033"
      ]
     },
     "execution_count": 3,
     "metadata": {},
     "output_type": "execute_result"
    }
   ],
   "source": [
    "len(words)"
   ]
  },
  {
   "cell_type": "code",
   "execution_count": 4,
   "id": "cb59a5d5-ff5a-4d02-b2d3-6f0c08bef4ba",
   "metadata": {},
   "outputs": [
    {
     "name": "stdout",
     "output_type": "stream",
     "text": [
      "{1: 'a', 2: 'b', 3: 'c', 4: 'd', 5: 'e', 6: 'f', 7: 'g', 8: 'h', 9: 'i', 10: 'j', 11: 'k', 12: 'l', 13: 'm', 14: 'n', 15: 'o', 16: 'p', 17: 'q', 18: 'r', 19: 's', 20: 't', 21: 'u', 22: 'v', 23: 'w', 24: 'x', 25: 'y', 26: 'z', 0: '.'}\n"
     ]
    }
   ],
   "source": [
    "#build the vocabulary of chars and mapping to/from integers \n",
    "chars = sorted(list(set(''.join(words))))\n",
    "stoi = {s:i+1 for i, s in enumerate(chars)} \n",
    "stoi['.'] = 0 \n",
    "itos = {i:s for s, i in stoi.items()} \n",
    "print(itos)"
   ]
  },
  {
   "cell_type": "code",
   "execution_count": 136,
   "id": "c6a6bbda-b2d0-458e-95c8-8cfdfa6bc622",
   "metadata": {},
   "outputs": [
    {
     "name": "stdout",
     "output_type": "stream",
     "text": [
      "torch.Size([182580, 3]) torch.Size([182580])\n",
      "torch.Size([22767, 3]) torch.Size([22767])\n",
      "torch.Size([22799, 3]) torch.Size([22799])\n"
     ]
    }
   ],
   "source": [
    "# #build the dataset \n",
    "# block_size = 3  #context length: how many chars do we take to predict the next one? \n",
    "# X, Y = [] , [] \n",
    "# for w in words:\n",
    "# # for w in words[:5]: \n",
    "\n",
    "#     # print(w) \n",
    "#     context = [0] * block_size \n",
    "#     for ch in w + '.': \n",
    "#         ix = stoi[ch] \n",
    "#         X.append(context) \n",
    "#         Y.append(ix) \n",
    "#         # print(''.join(itos[i] for i in context), '--->', itos[ix]) \n",
    "#         context = context[1:] + [ix] #crop and append \n",
    "\n",
    "# X = torch.tensor(X) \n",
    "# Y = torch.tensor(Y) \n",
    "\n",
    "# build the dataset\n",
    "def build_dataset(words):\n",
    "    block_size = 3 # context length: how many characters do we take to predict the next one?\n",
    "    X, Y = [], []\n",
    "    for w in words:\n",
    "\n",
    "        #print(w)\n",
    "        context = [0] * block_size\n",
    "        for ch in w + '.':\n",
    "            ix = stoi[ch]\n",
    "            X.append(context)\n",
    "            Y.append(ix)\n",
    "            #print(''.join(itos[i] for i in context), '-->', itos[ix])\n",
    "            context = context[1:] + [ix] # crop and append\n",
    "\n",
    "    X = torch.tensor(X)\n",
    "    Y = torch.tensor(Y)\n",
    "    print(X.shape, Y.shape)\n",
    "    return X, Y\n",
    "\n",
    "import random\n",
    "random.seed(42)\n",
    "random.shuffle(words)\n",
    "n1 = int(0.8*len(words))\n",
    "n2 = int(0.9*len(words))\n",
    "\n",
    "Xtr, Ytr = build_dataset(words[:n1])\n",
    "Xdev, Ydev = build_dataset(words[n1:n2])\n",
    "Xte, Yte = build_dataset(words[n2:])"
   ]
  },
  {
   "cell_type": "code",
   "execution_count": 72,
   "id": "770de7bf-b151-4e84-8959-e0ddc2e40774",
   "metadata": {},
   "outputs": [
    {
     "data": {
      "text/plain": [
       "(torch.Size([228146, 3]), torch.int64, torch.Size([228146]), torch.int64)"
      ]
     },
     "execution_count": 72,
     "metadata": {},
     "output_type": "execute_result"
    }
   ],
   "source": [
    "X.shape, X.dtype, Y.shape, Y.dtype"
   ]
  },
  {
   "cell_type": "code",
   "execution_count": 9,
   "id": "1fbc1834-39b6-4906-892d-52defbb13309",
   "metadata": {},
   "outputs": [],
   "source": [
    "C = torch.randn((27, 2))"
   ]
  },
  {
   "cell_type": "code",
   "execution_count": 11,
   "id": "17499868-f170-4098-a53e-c7752ad8ddb5",
   "metadata": {},
   "outputs": [
    {
     "data": {
      "text/plain": [
       "tensor([1.3949, 1.1983])"
      ]
     },
     "execution_count": 11,
     "metadata": {},
     "output_type": "execute_result"
    }
   ],
   "source": [
    "C[5]"
   ]
  },
  {
   "cell_type": "code",
   "execution_count": 15,
   "id": "b84fbe21-0965-4fe4-9255-a940d4813f8a",
   "metadata": {},
   "outputs": [
    {
     "data": {
      "text/plain": [
       "(tensor([0, 0, 0, 0, 0, 1, 0, 0, 0, 0, 0, 0, 0, 0, 0, 0, 0, 0, 0, 0, 0, 0, 0, 0,\n",
       "         0, 0, 0]),\n",
       " torch.Size([27]))"
      ]
     },
     "execution_count": 15,
     "metadata": {},
     "output_type": "execute_result"
    }
   ],
   "source": [
    "F.one_hot(torch.tensor(5), num_classes=27), F.one_hot(torch.tensor(5), num_classes=27).shape"
   ]
  },
  {
   "cell_type": "code",
   "execution_count": 17,
   "id": "aa633adf-1afc-475e-9fe6-9b21911313b6",
   "metadata": {},
   "outputs": [
    {
     "data": {
      "text/plain": [
       "tensor([1.3949, 1.1983])"
      ]
     },
     "execution_count": 17,
     "metadata": {},
     "output_type": "execute_result"
    }
   ],
   "source": [
    "F.one_hot(torch.tensor(5), num_classes=27).float() @ C #another way to look up "
   ]
  },
  {
   "cell_type": "code",
   "execution_count": 20,
   "id": "d5ca6fc8-62ec-403b-8957-a2ed1d6214f8",
   "metadata": {},
   "outputs": [],
   "source": [
    "emb = C[X]"
   ]
  },
  {
   "cell_type": "code",
   "execution_count": 21,
   "id": "0dc24932-f706-40e3-ad8a-a1f03b34c840",
   "metadata": {},
   "outputs": [],
   "source": [
    "W1 = torch.randn((6, 100))\n",
    "b1 = torch.randn(100) "
   ]
  },
  {
   "cell_type": "code",
   "execution_count": 39,
   "id": "eb2db1cb-76fd-4fa9-8498-d93c0cc39bce",
   "metadata": {},
   "outputs": [],
   "source": [
    "h = torch.tanh(emb.view(-1, 6) @ W1 + b1)"
   ]
  },
  {
   "cell_type": "code",
   "execution_count": 40,
   "id": "7f88dcf7-95b9-4081-8171-fa9bdc91d67d",
   "metadata": {},
   "outputs": [
    {
     "data": {
      "text/plain": [
       "tensor([[ 0.9880,  0.9951,  0.9705,  ...,  0.9999, -0.9998, -0.9983],\n",
       "        [-0.9985,  0.6535, -0.9615,  ...,  0.9682, -0.9989,  1.0000],\n",
       "        [-0.9982, -0.8706,  0.9990,  ...,  1.0000,  0.8075, -1.0000],\n",
       "        ...,\n",
       "        [-0.9382,  0.9997, -0.9999,  ..., -0.0260,  0.9368,  0.9982],\n",
       "        [-0.9996, -1.0000,  0.9987,  ...,  0.3498, -0.9634, -0.9971],\n",
       "        [-0.9996,  0.6536, -0.9989,  ..., -0.1821,  0.9301, -0.4722]])"
      ]
     },
     "execution_count": 40,
     "metadata": {},
     "output_type": "execute_result"
    }
   ],
   "source": [
    "h"
   ]
  },
  {
   "cell_type": "code",
   "execution_count": 41,
   "id": "0588f400-e6c6-42dd-80a6-eede100caeff",
   "metadata": {},
   "outputs": [
    {
     "data": {
      "text/plain": [
       "torch.Size([32, 100])"
      ]
     },
     "execution_count": 41,
     "metadata": {},
     "output_type": "execute_result"
    }
   ],
   "source": [
    "h.shape"
   ]
  },
  {
   "cell_type": "code",
   "execution_count": 42,
   "id": "4e3c5f1f-5f70-4bad-b4a1-2a471a43c7ba",
   "metadata": {},
   "outputs": [],
   "source": [
    "W2 = torch.randn((100, 27)) \n",
    "b2 = torch.randn(27) "
   ]
  },
  {
   "cell_type": "code",
   "execution_count": 43,
   "id": "81442a30-3a34-4b76-8afd-bf5053ca42c9",
   "metadata": {},
   "outputs": [],
   "source": [
    "logits = h @ W2 + b2 "
   ]
  },
  {
   "cell_type": "code",
   "execution_count": 44,
   "id": "ca0d3860-fa29-41ca-b899-4de108e2b15a",
   "metadata": {},
   "outputs": [
    {
     "data": {
      "text/plain": [
       "torch.Size([32, 27])"
      ]
     },
     "execution_count": 44,
     "metadata": {},
     "output_type": "execute_result"
    }
   ],
   "source": [
    "logits.shape"
   ]
  },
  {
   "cell_type": "code",
   "execution_count": 46,
   "id": "a0773d80-c972-4c62-9de2-cbdc3a706ff7",
   "metadata": {},
   "outputs": [],
   "source": [
    "counts = logits.exp() \n",
    "prob = counts / counts.sum(1, keepdims=True)"
   ]
  },
  {
   "cell_type": "code",
   "execution_count": 48,
   "id": "3004426e-6863-4bf3-955a-95f7714deed4",
   "metadata": {},
   "outputs": [
    {
     "data": {
      "text/plain": [
       "(torch.Size([32, 27]), tensor(1.))"
      ]
     },
     "execution_count": 48,
     "metadata": {},
     "output_type": "execute_result"
    }
   ],
   "source": [
    "prob.shape, prob[0].sum()"
   ]
  },
  {
   "cell_type": "code",
   "execution_count": 52,
   "id": "2123b5ef-6625-4d54-80df-db4074383ca5",
   "metadata": {},
   "outputs": [
    {
     "data": {
      "text/plain": [
       "tensor(19.9953)"
      ]
     },
     "execution_count": 52,
     "metadata": {},
     "output_type": "execute_result"
    }
   ],
   "source": [
    "loss = -prob[torch.arange(32), Y].log().mean()\n",
    "loss"
   ]
  },
  {
   "cell_type": "code",
   "execution_count": 54,
   "id": "ed9fd561-c0d8-48fd-9464-5bbb091fa803",
   "metadata": {},
   "outputs": [],
   "source": [
    "#--------------now made respectable-------------"
   ]
  },
  {
   "cell_type": "code",
   "execution_count": 157,
   "id": "430b6cca-fc6d-47ab-89a4-d21ad9f4b1bc",
   "metadata": {},
   "outputs": [
    {
     "data": {
      "text/plain": [
       "(torch.Size([182580, 3]), torch.Size([182580]))"
      ]
     },
     "execution_count": 157,
     "metadata": {},
     "output_type": "execute_result"
    }
   ],
   "source": [
    "Xtr.shape, Ytr.shape #dataset "
   ]
  },
  {
   "cell_type": "code",
   "execution_count": 185,
   "id": "fc9e9b5f-1c9f-49c2-8784-c73903eb9425",
   "metadata": {},
   "outputs": [],
   "source": [
    "g = torch.Generator().manual_seed(2147483647) #for reproducibility \n",
    "C = torch.randn((27, 10), generator=g) \n",
    "W1 = torch.randn((30, 200), generator=g) \n",
    "b1 = torch.randn(200, generator=g) \n",
    "W2 = torch.randn((200, 27), generator=g) \n",
    "b2 = torch.randn(27, generator=g) \n",
    "parameters = [C, W1, b1, W2, b2] "
   ]
  },
  {
   "cell_type": "code",
   "execution_count": 186,
   "id": "02bc6390-5051-412e-a402-6f2d912a1c77",
   "metadata": {},
   "outputs": [
    {
     "data": {
      "text/plain": [
       "11897"
      ]
     },
     "execution_count": 186,
     "metadata": {},
     "output_type": "execute_result"
    }
   ],
   "source": [
    "sum(p.nelement() for p in parameters) #number of parameters in total "
   ]
  },
  {
   "cell_type": "code",
   "execution_count": 187,
   "id": "5d689662-db37-4d44-80e9-c9a04b5ef0ae",
   "metadata": {},
   "outputs": [],
   "source": [
    "for p in parameters:\n",
    "    p.requires_grad = True "
   ]
  },
  {
   "cell_type": "code",
   "execution_count": 188,
   "id": "0884b204-7bd2-40e1-953c-d273119c1236",
   "metadata": {},
   "outputs": [],
   "source": [
    "lre = torch.linspace(-3, 0, 1000)\n",
    "lrs = 10**lre "
   ]
  },
  {
   "cell_type": "code",
   "execution_count": 189,
   "id": "c7a9316d-17bb-4496-ad38-54284f7e396b",
   "metadata": {},
   "outputs": [],
   "source": [
    "lri = [] \n",
    "lossi = [] \n",
    "stepi = []"
   ]
  },
  {
   "cell_type": "code",
   "execution_count": 197,
   "id": "980d82d1-cc74-4dcb-990a-5c56bb1bb176",
   "metadata": {},
   "outputs": [],
   "source": [
    "for i in range(50000):\n",
    "    \n",
    "    #mini batch construct \n",
    "    ix = torch.randint(0, Xtr.shape[0], (32,)) \n",
    "    \n",
    "    #forward pass \n",
    "    emb = C[Xtr[ix]] #(32, 3, 2) \n",
    "    h = torch.tanh(emb.view(-1, 30) @ W1 + b1) # (32, 100) \n",
    "    logits = h @ W2 + b2  # (32, 27) \n",
    "    # counts = logits.exp() \n",
    "    # prob = counts / counts.sum(1, keepdims=True) \n",
    "    # loss = -prob[torch.arange(32), Y].log().mean() \n",
    "    loss = F.cross_entropy(logits, Ytr[ix])\n",
    "    # print(loss.item())\n",
    "    \n",
    "    #backward pass \n",
    "    for p in parameters:\n",
    "        p.grad = None \n",
    "    loss.backward() \n",
    "    #update \n",
    "    # lr = lrs[i]\n",
    "    lr = 0.01\n",
    "    for p in parameters: \n",
    "        p.data += -lr * p.grad \n",
    "    #track stats \n",
    "    # lri.append(lre[i]) \n",
    "    stepi.append(i) \n",
    "    lossi.append(loss.log10().item()) \n",
    "# print(loss.item())"
   ]
  },
  {
   "cell_type": "code",
   "execution_count": 200,
   "id": "5e3cc7a2-702c-496f-ab4c-69cd96aaaab6",
   "metadata": {},
   "outputs": [
    {
     "data": {
      "text/plain": [
       "[<matplotlib.lines.Line2D at 0x79ea573f6120>]"
      ]
     },
     "execution_count": 200,
     "metadata": {},
     "output_type": "execute_result"
    },
    {
     "data": {
      "image/png": "[encoded data removed]",
      "text/plain": [
       "<Figure size 640x480 with 1 Axes>"
      ]
     },
     "metadata": {},
     "output_type": "display_data"
    }
   ],
   "source": [
    "plt.plot(stepi, lossi) "
   ]
  },
  {
   "cell_type": "code",
   "execution_count": 198,
   "id": "9664c1ba-e6ab-4569-a57f-270836c3717a",
   "metadata": {},
   "outputs": [
    {
     "data": {
      "text/plain": [
       "tensor(2.1639, grad_fn=<NllLossBackward0>)"
      ]
     },
     "execution_count": 198,
     "metadata": {},
     "output_type": "execute_result"
    }
   ],
   "source": [
    "#training loss \n",
    "emb = C[Xtr] #(32, 3, 2) \n",
    "h = torch.tanh(emb.view(-1, 30) @ W1 + b1) # (32, 100) \n",
    "logits = h @ W2 + b2  # (32, 27) \n",
    "loss = F.cross_entropy(logits, Ytr)\n",
    "loss"
   ]
  },
  {
   "cell_type": "code",
   "execution_count": 199,
   "id": "9a48aa88-3371-4100-847f-5a697b19c6f3",
   "metadata": {},
   "outputs": [
    {
     "data": {
      "text/plain": [
       "tensor(2.1876, grad_fn=<NllLossBackward0>)"
      ]
     },
     "execution_count": 199,
     "metadata": {},
     "output_type": "execute_result"
    }
   ],
   "source": [
    "#dev/validation\n",
    "emb = C[Xdev] #(32, 3, 2) \n",
    "h = torch.tanh(emb.view(-1, 30) @ W1 + b1) # (32, 100) \n",
    "logits = h @ W2 + b2  # (32, 27) \n",
    "loss = F.cross_entropy(logits, Ydev)\n",
    "loss"
   ]
  },
  {
   "cell_type": "code",
   "execution_count": 171,
   "id": "cbb4c71f-0fec-41d6-9de3-c7bcd98e279a",
   "metadata": {},
   "outputs": [
    {
     "data": {
      "image/png": "[encoded data removed]",
      "text/plain": [
       "<Figure size 800x800 with 1 Axes>"
      ]
     },
     "metadata": {},
     "output_type": "display_data"
    }
   ],
   "source": [
    "#visualization \n",
    "plt.figure(figsize=(8,8))\n",
    "plt.scatter(C[:, 0].data, C[:, 1].data, s=200) \n",
    "for i in range(C.shape[0]): \n",
    "    plt.text(C[i, 0].item(), C[i,1].item(), itos[i], ha=\"center\", va=\"center\", color=\"white\") \n",
    "plt.grid('minor') "
   ]
  },
  {
   "cell_type": "code",
   "execution_count": 135,
   "id": "ca2cde77-957b-407f-b4eb-dbb9290d5a17",
   "metadata": {},
   "outputs": [
    {
     "name": "stdout",
     "output_type": "stream",
     "text": [
      "torch.Size([182625, 3]) torch.Size([182625])\n",
      "torch.Size([22655, 3]) torch.Size([22655])\n",
      "torch.Size([22866, 3]) torch.Size([22866])\n"
     ]
    }
   ],
   "source": [
    "#training split, dev/validation split, test split \n",
    "#80%,  10%,  10%\n",
    "\n"
   ]
  },
  {
   "cell_type": "code",
   "execution_count": 201,
   "id": "34267dc5-7623-4a0b-b4a5-9419665008b0",
   "metadata": {
    "scrolled": true
   },
   "outputs": [
    {
     "name": "stdout",
     "output_type": "stream",
     "text": [
      "mora.\n",
      "mayannieel.\n",
      "nihah.\n",
      "larethan.\n",
      "endrami.\n",
      "azeredieliigh.\n",
      "poren.\n",
      "eden.\n",
      "esmanaraelynn.\n",
      "honia.\n",
      "noshir.\n",
      "rilairiel.\n",
      "kindreelynn.\n",
      "nopuna.\n",
      "ubrence.\n",
      "ruyah.\n",
      "fael.\n",
      "yumajayson.\n",
      "daihalina.\n",
      "yansun.\n"
     ]
    }
   ],
   "source": [
    "# sample from the model\n",
    "g = torch.Generator().manual_seed(2147483647 + 10)\n",
    "\n",
    "for _ in range(20):\n",
    "\n",
    "    out = []\n",
    "    context = [0] * block_size # initialize with all ...\n",
    "    while True:\n",
    "        emb = C[torch.tensor([context])] # (1,block_size,d)\n",
    "        h = torch.tanh(emb.view(1, -1) @ W1 + b1)\n",
    "        logits = h @ W2 + b2\n",
    "        probs = F.softmax(logits, dim=1)\n",
    "        ix = torch.multinomial(probs, num_samples=1, generator=g).item()\n",
    "        context = context[1:] + [ix]\n",
    "        out.append(ix)\n",
    "        if ix == 0:\n",
    "            break\n",
    "\n",
    "    print(''.join(itos[i] for i in out))"
   ]
  },
  {
   "cell_type": "code",
   "execution_count": null,
   "id": "7b868c85-98fc-4d2b-9375-b0b07330fd3b",
   "metadata": {},
   "outputs": [],
   "source": []
  }
 ],
 "metadata": {
  "kernelspec": {
   "display_name": "Python 3 (ipykernel)",
   "language": "python",
   "name": "python3"
  },
  "language_info": {
   "codemirror_mode": {
    "name": "ipython",
    "version": 3
   },
   "file_extension": ".py",
   "mimetype": "text/x-python",
   "name": "python",
   "nbconvert_exporter": "python",
   "pygments_lexer": "ipython3",
   "version": "3.12.2"
  }
 },
 "nbformat": 4,
 "nbformat_minor": 5
}
